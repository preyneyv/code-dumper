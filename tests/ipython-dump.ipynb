{
 "cells": [
  {
   "cell_type": "code",
   "execution_count": 2,
   "metadata": {},
   "outputs": [],
   "source": [
    "d = 4"
   ]
  },
  {
   "cell_type": "code",
   "execution_count": 3,
   "metadata": {},
   "outputs": [
    {
     "name": "stdout",
     "output_type": "stream",
     "text": [
      "Source\n",
      "======\n",
      "1| \n",
      "2| # ---\n",
      "3| d = 4\n",
      "4| # ---\n",
      "5| from code_dumper import pretty_print\n",
      "6| def target(): ...\n",
      "7| pretty_print(target)\n",
      "\n",
      "Variables\n",
      "=========\n",
      "           d -> 3\n",
      "pretty_print -> 5\n",
      "      target -> 6\n",
      "\n",
      "Result\n",
      "======\n",
      "1| def target(): ...\n",
      "\n"
     ]
    }
   ],
   "source": [
    "from code_dumper import pretty_print\n",
    "def target(): ...\n",
    "pretty_print(target)"
   ]
  },
  {
   "cell_type": "code",
   "execution_count": null,
   "metadata": {},
   "outputs": [],
   "source": []
  }
 ],
 "metadata": {
  "kernelspec": {
   "display_name": "Python 3",
   "language": "python",
   "name": "python3"
  },
  "language_info": {
   "codemirror_mode": {
    "name": "ipython",
    "version": 3
   },
   "file_extension": ".py",
   "mimetype": "text/x-python",
   "name": "python",
   "nbconvert_exporter": "python",
   "pygments_lexer": "ipython3",
   "version": "3.7.7"
  }
 },
 "nbformat": 4,
 "nbformat_minor": 4
}
