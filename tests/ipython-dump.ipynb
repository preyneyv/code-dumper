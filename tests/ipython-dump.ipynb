{
 "cells": [
  {
   "cell_type": "code",
   "execution_count": 4,
   "metadata": {},
   "outputs": [],
   "source": [
    "from code_dumper import pretty_dump"
   ]
  },
  {
   "cell_type": "code",
   "execution_count": 7,
   "metadata": {},
   "outputs": [],
   "source": [
    "x = dict()\n",
    "\n",
    "y = 1\n",
    "b = y\n",
    "\n",
    "y = 4\n",
    "b += 3\n",
    "\n",
    "z = [4, y]\n",
    "\n",
    "x['test'] = []\n",
    "x['test'] += [4]\n",
    "y += 2\n",
    "z += [1]\n",
    "\n",
    "\n",
    "for i in range(3):\n",
    "    x = i\n"
   ]
  },
  {
   "cell_type": "code",
   "execution_count": 8,
   "metadata": {},
   "outputs": [
    {
     "name": "stdout",
     "output_type": "stream",
     "text": [
      "Source\n",
      "======\n",
      " 1| \n",
      " 2| # ---\n",
      " 3| from code_dumper import pretty_dump\n",
      " 4| # ---\n",
      " 5| x = dict()\n",
      " 6| \n",
      " 7| y = 1\n",
      " 8| b = y\n",
      " 9| \n",
      "10| y = 4\n",
      "11| b += 3\n",
      "12| \n",
      "13| z = [4, y]\n",
      "14| \n",
      "15| x['test'] = []\n",
      "16| x['test'] += [4]\n",
      "17| y += 2\n",
      "18| z += [1]\n",
      "19| # ---\n",
      "20| def target(): ...\n",
      "21| pretty_dump(target)\n",
      "22| # ---\n",
      "23| from code_dumper import pretty_dump\n",
      "24| # ---\n",
      "25| x = dict()\n",
      "26| \n",
      "27| y = 1\n",
      "28| b = y\n",
      "29| \n",
      "30| y = 4\n",
      "31| b += 3\n",
      "32| \n",
      "33| z = [4, y]\n",
      "34| \n",
      "35| x['test'] = []\n",
      "36| x['test'] += [4]\n",
      "37| y += 2\n",
      "38| z += [1]\n",
      "39| # ---\n",
      "40| def target(): ...\n",
      "41| pretty_dump(target)\n",
      "42| # ---\n",
      "43| x = dict()\n",
      "44| \n",
      "45| y = 1\n",
      "46| b = y\n",
      "47| \n",
      "48| y = 4\n",
      "49| b += 3\n",
      "50| \n",
      "51| z = [4, y]\n",
      "52| \n",
      "53| x['test'] = []\n",
      "54| x['test'] += [4]\n",
      "55| y += 2\n",
      "56| z += [1]\n",
      "57| \n",
      "58| \n",
      "59| for i in range(3):\n",
      "60|     x = i\n",
      "61| # ---\n",
      "62| def target(): ...\n",
      "63| pretty_dump(target)\n",
      "\n",
      "Found Variables\n",
      "===============\n",
      "pretty_dump -> 23\n",
      "          x -> 43, 53, 54, 59, 60\n",
      "       dict -> \n",
      "          y -> 48, 55\n",
      "          b -> 45, 46, 49\n",
      "          z -> 51, 56\n",
      "     target -> 62\n",
      "          i -> 59, 60\n",
      "      range -> \n"
     ]
    }
   ],
   "source": [
    "def target(): ...\n",
    "pretty_dump(target)"
   ]
  }
 ],
 "metadata": {
  "kernelspec": {
   "display_name": "Python 3",
   "language": "python",
   "name": "python3"
  },
  "language_info": {
   "codemirror_mode": {
    "name": "ipython",
    "version": 3
   },
   "file_extension": ".py",
   "mimetype": "text/x-python",
   "name": "python",
   "nbconvert_exporter": "python",
   "pygments_lexer": "ipython3",
   "version": "3.7.7"
  }
 },
 "nbformat": 4,
 "nbformat_minor": 4
}
