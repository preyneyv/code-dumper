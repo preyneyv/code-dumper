{
 "cells": [
  {
   "cell_type": "code",
   "execution_count": null,
   "metadata": {},
   "outputs": [],
   "source": [
    "from code_dumper import pretty_print"
   ]
  },
  {
   "cell_type": "code",
   "execution_count": 5,
   "metadata": {},
   "outputs": [
    {
     "name": "stdout",
     "output_type": "stream",
     "text": [
      "Source\n",
      "======\n",
      " 1| \n",
      " 2| # ---\n",
      " 3| from code_dumper import pretty_print\n",
      " 4| # ---\n",
      " 5| y = 3\n",
      " 6| a = 3\n",
      " 7| b = 4\n",
      " 8| x = a + b\n",
      " 9| \n",
      "10| def target():\n",
      "11|     return x\n",
      "12| \n",
      "13| if True:\n",
      "14|     def target():\n",
      "15|         return y\n",
      "16| \n",
      "17| pretty_print(target)\n",
      "18| # ---\n",
      "19| y = 3\n",
      "20| a = 3\n",
      "21| b = 4\n",
      "22| x = a + b\n",
      "23| \n",
      "24| def target():\n",
      "25|     return x\n",
      "26| \n",
      "27| if True:\n",
      "28|     def target():\n",
      "29|         return y\n",
      "30| \n",
      "31| pretty_print(target)\n",
      "32| # ---\n",
      "33| y = 3\n",
      "34| a = 3\n",
      "35| b = 4\n",
      "36| x = a + b\n",
      "37| \n",
      "38| def target():\n",
      "39|     return x\n",
      "40| \n",
      "41| if True:\n",
      "42|     def target():\n",
      "43|         return y\n",
      "44| \n",
      "45| pretty_print(target, with_variables=0)\n",
      "46| # ---\n",
      "47| y = 3\n",
      "48| a = 3\n",
      "49| b = 4\n",
      "50| x = a + b\n",
      "51| \n",
      "52| def target():\n",
      "53|     return x\n",
      "54| \n",
      "55| if True:\n",
      "56|     def target():\n",
      "57|         return y\n",
      "58| \n",
      "59| pretty_print(target, with_vars=0)\n",
      "\n",
      "Result\n",
      "======\n",
      " 1| y = 3\n",
      " 2| a = 3\n",
      " 3| b = 4\n",
      " 4| x = a + b\n",
      " 5| \n",
      " 6| def target():\n",
      " 7|     return x\n",
      " 8| \n",
      " 9| if True:\n",
      "10|     def target():\n",
      "11|         return y\n",
      "12| \n",
      "\n"
     ]
    }
   ],
   "source": [
    "y = 3\n",
    "a = 3\n",
    "b = 4\n",
    "x = a + b\n",
    "\n",
    "def target():\n",
    "    return x\n",
    "\n",
    "if True:\n",
    "    def target():\n",
    "        return y\n",
    "\n",
    "pretty_print(target, with_vars=0)"
   ]
  },
  {
   "cell_type": "code",
   "execution_count": null,
   "metadata": {},
   "outputs": [],
   "source": []
  },
  {
   "cell_type": "code",
   "execution_count": null,
   "metadata": {},
   "outputs": [],
   "source": []
  }
 ],
 "metadata": {
  "kernelspec": {
   "display_name": "Python 3",
   "language": "python",
   "name": "python3"
  },
  "language_info": {
   "codemirror_mode": {
    "name": "ipython",
    "version": 3
   },
   "file_extension": ".py",
   "mimetype": "text/x-python",
   "name": "python",
   "nbconvert_exporter": "python",
   "pygments_lexer": "ipython3",
   "version": "3.7.7"
  }
 },
 "nbformat": 4,
 "nbformat_minor": 4
}
