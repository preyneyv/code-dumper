{
 "cells": [
  {
   "cell_type": "code",
   "execution_count": 1,
   "metadata": {},
   "outputs": [],
   "source": [
    "from code_dumper import dump"
   ]
  },
  {
   "cell_type": "markdown",
   "metadata": {},
   "source": [
    "# Input1"
   ]
  },
  {
   "cell_type": "code",
   "execution_count": 3,
   "metadata": {},
   "outputs": [],
   "source": [
    "z=\"global\"\n",
    "def outer():\n",
    "    z = \"local\"\n",
    "\n",
    "    def inner():\n",
    "        nonlocal z\n",
    "        if z == \"local\":\n",
    "            print(\"Its local z only of the calling function\")\n",
    "    inner()\n",
    "    print(\"outer:\", z)\n",
    "    print(\"global:\",globals()[\"z\"])"
   ]
  },
  {
   "cell_type": "markdown",
   "metadata": {},
   "source": [
    "# Output1"
   ]
  },
  {
   "cell_type": "code",
   "execution_count": 11,
   "metadata": {},
   "outputs": [
    {
     "name": "stdout",
     "output_type": "stream",
     "text": [
      "def outer():\n",
      "    z = \"local\"\n",
      "\n",
      "    def inner():\n",
      "        nonlocal z\n",
      "        if z == \"local\":\n",
      "            print(\"Its local z only of the calling function\")\n",
      "    inner()\n",
      "    print(\"outer:\", z)\n",
      "    print(\"global:\",globals()[\"z\"])\n",
      "# ---\n"
     ]
    }
   ],
   "source": [
    "print(dump(outer))"
   ]
  },
  {
   "cell_type": "markdown",
   "metadata": {},
   "source": [
    "# Input2"
   ]
  },
  {
   "cell_type": "code",
   "execution_count": 7,
   "metadata": {},
   "outputs": [],
   "source": [
    "a='kes'\n",
    "def my_func():\n",
    "    global a\n",
    "    print(a)\n",
    "    a='rit'\n",
    "    print(a)"
   ]
  },
  {
   "cell_type": "markdown",
   "metadata": {},
   "source": [
    "# Output2"
   ]
  },
  {
   "cell_type": "code",
   "execution_count": 9,
   "metadata": {},
   "outputs": [
    {
     "name": "stdout",
     "output_type": "stream",
     "text": [
      "def my_func():\n",
      "    global a\n",
      "    print(a)\n",
      "    a='rit'\n",
      "    print(a)\n",
      "# ---\n",
      "# Output2\n",
      "# ---\n"
     ]
    }
   ],
   "source": [
    "print(dump(my_func))"
   ]
  },
  {
   "cell_type": "markdown",
   "metadata": {},
   "source": [
    "# Input3"
   ]
  },
  {
   "cell_type": "code",
   "execution_count": 12,
   "metadata": {},
   "outputs": [],
   "source": [
    "a='kes'\n",
    "def my_func():\n",
    "    global a\n",
    "    print(a)\n",
    "    a='rit'\n",
    "    print(a)\n",
    "b='global'\n",
    "def my_func_outer():\n",
    "    my_func()\n",
    "    b='local'"
   ]
  },
  {
   "cell_type": "markdown",
   "metadata": {},
   "source": [
    "# Output3"
   ]
  },
  {
   "cell_type": "code",
   "execution_count": 13,
   "metadata": {},
   "outputs": [
    {
     "name": "stdout",
     "output_type": "stream",
     "text": [
      "def my_func():\n",
      "    global a\n",
      "    print(a)\n",
      "    a='rit'\n",
      "    print(a)\n",
      "def my_func_outer():\n",
      "    my_func()\n",
      "    b='local'\n",
      "# ---\n"
     ]
    }
   ],
   "source": [
    "print(dump(my_func_outer))"
   ]
  },
  {
   "cell_type": "markdown",
   "metadata": {},
   "source": [
    "# Input4"
   ]
  },
  {
   "cell_type": "code",
   "execution_count": 14,
   "metadata": {},
   "outputs": [],
   "source": [
    "f = lambda x,y: x+y\n",
    "g=f(2,3)\n"
   ]
  },
  {
   "cell_type": "markdown",
   "metadata": {},
   "source": [
    "# Output4"
   ]
  },
  {
   "cell_type": "code",
   "execution_count": 15,
   "metadata": {},
   "outputs": [
    {
     "ename": "ValueError",
     "evalue": "Tried to dump variable `<lambda>` which does not exist in the global scope.",
     "output_type": "error",
     "traceback": [
      "\u001b[0;31m---------------------------------------------------------------------------\u001b[0m",
      "\u001b[0;31mValueError\u001b[0m                                Traceback (most recent call last)",
      "\u001b[0;32m<ipython-input-15-63aca4d88ed4>\u001b[0m in \u001b[0;36m<module>\u001b[0;34m\u001b[0m\n\u001b[0;32m----> 1\u001b[0;31m \u001b[0mprint\u001b[0m\u001b[0;34m(\u001b[0m\u001b[0mdump\u001b[0m\u001b[0;34m(\u001b[0m\u001b[0mf\u001b[0m\u001b[0;34m)\u001b[0m\u001b[0;34m)\u001b[0m\u001b[0;34m\u001b[0m\u001b[0;34m\u001b[0m\u001b[0m\n\u001b[0m",
      "\u001b[0;32m~/Desktop/razorsdk-code-dumper/code_dumper/__init__.py\u001b[0m in \u001b[0;36mdump\u001b[0;34m(obj)\u001b[0m\n\u001b[1;32m     50\u001b[0m     \u001b[0msource\u001b[0m \u001b[0;34m=\u001b[0m \u001b[0mget_source_from_obj\u001b[0m\u001b[0;34m(\u001b[0m\u001b[0mobj\u001b[0m\u001b[0;34m)\u001b[0m\u001b[0;34m\u001b[0m\u001b[0;34m\u001b[0m\u001b[0m\n\u001b[1;32m     51\u001b[0m     \u001b[0mname\u001b[0m \u001b[0;34m=\u001b[0m \u001b[0mget_name_from_obj\u001b[0m\u001b[0;34m(\u001b[0m\u001b[0mobj\u001b[0m\u001b[0;34m)\u001b[0m\u001b[0;34m\u001b[0m\u001b[0;34m\u001b[0m\u001b[0m\n\u001b[0;32m---> 52\u001b[0;31m     \u001b[0;32mreturn\u001b[0m \u001b[0mCodeDumper\u001b[0m\u001b[0;34m(\u001b[0m\u001b[0msource\u001b[0m\u001b[0;34m)\u001b[0m\u001b[0;34m.\u001b[0m\u001b[0mdump\u001b[0m\u001b[0;34m(\u001b[0m\u001b[0mname\u001b[0m\u001b[0;34m)\u001b[0m\u001b[0;34m\u001b[0m\u001b[0;34m\u001b[0m\u001b[0m\n\u001b[0m",
      "\u001b[0;32m~/Desktop/razorsdk-code-dumper/code_dumper/dumper.py\u001b[0m in \u001b[0;36mdump\u001b[0;34m(self, name)\u001b[0m\n\u001b[1;32m     85\u001b[0m         \u001b[0;32mif\u001b[0m \u001b[0mname\u001b[0m \u001b[0;32mnot\u001b[0m \u001b[0;32min\u001b[0m \u001b[0mroot_scp\u001b[0m\u001b[0;34m:\u001b[0m\u001b[0;34m\u001b[0m\u001b[0;34m\u001b[0m\u001b[0m\n\u001b[1;32m     86\u001b[0m             raise ValueError(\"Tried to dump variable `{}` which does not exist \"\n\u001b[0;32m---> 87\u001b[0;31m                              \"in the global scope.\".format(name))\n\u001b[0m\u001b[1;32m     88\u001b[0m \u001b[0;34m\u001b[0m\u001b[0m\n\u001b[1;32m     89\u001b[0m         \u001b[0mvar\u001b[0m \u001b[0;34m=\u001b[0m \u001b[0mroot_scp\u001b[0m\u001b[0;34m.\u001b[0m\u001b[0mget\u001b[0m\u001b[0;34m(\u001b[0m\u001b[0mname\u001b[0m\u001b[0;34m)\u001b[0m\u001b[0;34m\u001b[0m\u001b[0;34m\u001b[0m\u001b[0m\n",
      "\u001b[0;31mValueError\u001b[0m: Tried to dump variable `<lambda>` which does not exist in the global scope."
     ]
    }
   ],
   "source": [
    "print(dump(f))"
   ]
  },
  {
   "cell_type": "markdown",
   "metadata": {},
   "source": [
    "# Input5"
   ]
  },
  {
   "cell_type": "code",
   "execution_count": 16,
   "metadata": {},
   "outputs": [
    {
     "name": "stdout",
     "output_type": "stream",
     "text": [
      "121\n"
     ]
    }
   ],
   "source": [
    "x=20\n",
    "y=11\n",
    "def outer_function():\n",
    "    lambda_func = lambda x: x*x\n",
    "    output_value=lambda_func(y)\n",
    "    return output_value\n",
    "\n",
    "print(outer_function())"
   ]
  },
  {
   "cell_type": "markdown",
   "metadata": {},
   "source": [
    "# Output5"
   ]
  },
  {
   "cell_type": "code",
   "execution_count": 17,
   "metadata": {},
   "outputs": [
    {
     "name": "stdout",
     "output_type": "stream",
     "text": [
      "x=20\n",
      "y=11\n",
      "def outer_function():\n",
      "    lambda_func = lambda x: x*x\n",
      "    output_value=lambda_func(y)\n",
      "    return output_value\n",
      "\n",
      "print(outer_function())\n",
      "# ---\n"
     ]
    }
   ],
   "source": [
    "print(dump(outer_function))"
   ]
  },
  {
   "cell_type": "markdown",
   "metadata": {},
   "source": [
    "# Input6"
   ]
  },
  {
   "cell_type": "code",
   "execution_count": 18,
   "metadata": {},
   "outputs": [
    {
     "name": "stdout",
     "output_type": "stream",
     "text": [
      "8\n"
     ]
    }
   ],
   "source": [
    "x=4\n",
    "x=8\n",
    "\n",
    "def func():\n",
    "    print(x)\n",
    "\n",
    "func()\n"
   ]
  },
  {
   "cell_type": "markdown",
   "metadata": {},
   "source": [
    "# Output6"
   ]
  },
  {
   "cell_type": "code",
   "execution_count": 19,
   "metadata": {},
   "outputs": [
    {
     "name": "stdout",
     "output_type": "stream",
     "text": [
      "x=8\n",
      "\n",
      "def func():\n",
      "    print(x)\n",
      "\n"
     ]
    }
   ],
   "source": [
    "print(dump(func))"
   ]
  },
  {
   "cell_type": "markdown",
   "metadata": {},
   "source": [
    "# Input7"
   ]
  },
  {
   "cell_type": "code",
   "execution_count": 20,
   "metadata": {},
   "outputs": [
    {
     "data": {
      "text/plain": [
       "8"
      ]
     },
     "execution_count": 20,
     "metadata": {},
     "output_type": "execute_result"
    }
   ],
   "source": [
    "temp_list=[1,2,3,4]\n",
    "\n",
    "temp_list=[5,6,7,8]\n",
    "\n",
    "def print_list(temp):\n",
    "    for i in temp:\n",
    "        if i==8:\n",
    "            return i\n",
    "\n",
    "print_list(temp_list)\n"
   ]
  },
  {
   "cell_type": "markdown",
   "metadata": {},
   "source": [
    "# Output7"
   ]
  },
  {
   "cell_type": "code",
   "execution_count": 21,
   "metadata": {},
   "outputs": [
    {
     "name": "stdout",
     "output_type": "stream",
     "text": [
      "temp_list=[5,6,7,8]\n",
      "\n",
      "def print_list(temp):\n",
      "    for i in temp:\n",
      "        if i==8:\n",
      "            return i\n",
      "\n",
      "print_list(temp_list)\n",
      "# ---\n"
     ]
    }
   ],
   "source": [
    "print(dump(print_list))"
   ]
  },
  {
   "cell_type": "markdown",
   "metadata": {},
   "source": [
    "# Input8"
   ]
  },
  {
   "cell_type": "code",
   "execution_count": 22,
   "metadata": {},
   "outputs": [
    {
     "data": {
      "text/plain": [
       "17"
      ]
     },
     "execution_count": 22,
     "metadata": {},
     "output_type": "execute_result"
    }
   ],
   "source": [
    "def adder(*num):\n",
    "    sum = 0\n",
    "\n",
    "    for n in num:\n",
    "        sum = sum + n\n",
    "\n",
    "    return sum\n",
    "\n",
    "\n",
    "adder(3, 5)\n",
    "adder(4, 5, 6, 7)\n",
    "adder(1, 2, 3, 5, 6)"
   ]
  },
  {
   "cell_type": "markdown",
   "metadata": {},
   "source": [
    "# Output8"
   ]
  },
  {
   "cell_type": "code",
   "execution_count": 23,
   "metadata": {},
   "outputs": [
    {
     "name": "stdout",
     "output_type": "stream",
     "text": [
      "def adder(*num):\n",
      "    sum = 0\n",
      "\n",
      "    for n in num:\n",
      "        sum = sum + n\n",
      "\n",
      "    return sum\n",
      "\n",
      "\n",
      "adder(3, 5)\n"
     ]
    }
   ],
   "source": [
    "print(dump(adder))"
   ]
  },
  {
   "cell_type": "markdown",
   "metadata": {},
   "source": [
    "# Input9"
   ]
  },
  {
   "cell_type": "code",
   "execution_count": 24,
   "metadata": {},
   "outputs": [
    {
     "name": "stdout",
     "output_type": "stream",
     "text": [
      "100\n"
     ]
    }
   ],
   "source": [
    "def product(a, b):\n",
    "    p = a * b\n",
    "    print(p)\n",
    "\n",
    "def product(a, b, c):\n",
    "    p = a * b * c\n",
    "    print(p)\n",
    "\n",
    "product(4, 5, 5)"
   ]
  },
  {
   "cell_type": "markdown",
   "metadata": {},
   "source": [
    "# Output9"
   ]
  },
  {
   "cell_type": "code",
   "execution_count": 25,
   "metadata": {},
   "outputs": [
    {
     "name": "stdout",
     "output_type": "stream",
     "text": [
      "def product(a, b, c):\n",
      "    p = a * b * c\n",
      "    print(p)\n",
      "\n",
      "product(4, 5, 5)\n",
      "# ---\n"
     ]
    }
   ],
   "source": [
    "print(dump(product))"
   ]
  },
  {
   "cell_type": "markdown",
   "metadata": {},
   "source": [
    "# Input10"
   ]
  },
  {
   "cell_type": "code",
   "execution_count": 26,
   "metadata": {},
   "outputs": [],
   "source": [
    "def make_pretty(func):\n",
    "    def inner():\n",
    "        print(\"I got decorated\")\n",
    "        func()\n",
    "    return inner\n",
    "\n",
    "@make_pretty\n",
    "def ordinary():\n",
    "    print(\"I am ordinary\")"
   ]
  },
  {
   "cell_type": "markdown",
   "metadata": {},
   "source": [
    "# Output10"
   ]
  },
  {
   "cell_type": "code",
   "execution_count": 27,
   "metadata": {},
   "outputs": [
    {
     "ename": "ValueError",
     "evalue": "Tried to dump variable `inner` which does not exist in the global scope.",
     "output_type": "error",
     "traceback": [
      "\u001b[0;31m---------------------------------------------------------------------------\u001b[0m",
      "\u001b[0;31mValueError\u001b[0m                                Traceback (most recent call last)",
      "\u001b[0;32m<ipython-input-27-a6c28c910df6>\u001b[0m in \u001b[0;36m<module>\u001b[0;34m\u001b[0m\n\u001b[0;32m----> 1\u001b[0;31m \u001b[0mprint\u001b[0m\u001b[0;34m(\u001b[0m\u001b[0mdump\u001b[0m\u001b[0;34m(\u001b[0m\u001b[0mordinary\u001b[0m\u001b[0;34m)\u001b[0m\u001b[0;34m)\u001b[0m\u001b[0;34m\u001b[0m\u001b[0;34m\u001b[0m\u001b[0m\n\u001b[0m",
      "\u001b[0;32m~/Desktop/razorsdk-code-dumper/code_dumper/__init__.py\u001b[0m in \u001b[0;36mdump\u001b[0;34m(obj)\u001b[0m\n\u001b[1;32m     50\u001b[0m     \u001b[0msource\u001b[0m \u001b[0;34m=\u001b[0m \u001b[0mget_source_from_obj\u001b[0m\u001b[0;34m(\u001b[0m\u001b[0mobj\u001b[0m\u001b[0;34m)\u001b[0m\u001b[0;34m\u001b[0m\u001b[0;34m\u001b[0m\u001b[0m\n\u001b[1;32m     51\u001b[0m     \u001b[0mname\u001b[0m \u001b[0;34m=\u001b[0m \u001b[0mget_name_from_obj\u001b[0m\u001b[0;34m(\u001b[0m\u001b[0mobj\u001b[0m\u001b[0;34m)\u001b[0m\u001b[0;34m\u001b[0m\u001b[0;34m\u001b[0m\u001b[0m\n\u001b[0;32m---> 52\u001b[0;31m     \u001b[0;32mreturn\u001b[0m \u001b[0mCodeDumper\u001b[0m\u001b[0;34m(\u001b[0m\u001b[0msource\u001b[0m\u001b[0;34m)\u001b[0m\u001b[0;34m.\u001b[0m\u001b[0mdump\u001b[0m\u001b[0;34m(\u001b[0m\u001b[0mname\u001b[0m\u001b[0;34m)\u001b[0m\u001b[0;34m\u001b[0m\u001b[0;34m\u001b[0m\u001b[0m\n\u001b[0m",
      "\u001b[0;32m~/Desktop/razorsdk-code-dumper/code_dumper/dumper.py\u001b[0m in \u001b[0;36mdump\u001b[0;34m(self, name)\u001b[0m\n\u001b[1;32m     85\u001b[0m         \u001b[0;32mif\u001b[0m \u001b[0mname\u001b[0m \u001b[0;32mnot\u001b[0m \u001b[0;32min\u001b[0m \u001b[0mroot_scp\u001b[0m\u001b[0;34m:\u001b[0m\u001b[0;34m\u001b[0m\u001b[0;34m\u001b[0m\u001b[0m\n\u001b[1;32m     86\u001b[0m             raise ValueError(\"Tried to dump variable `{}` which does not exist \"\n\u001b[0;32m---> 87\u001b[0;31m                              \"in the global scope.\".format(name))\n\u001b[0m\u001b[1;32m     88\u001b[0m \u001b[0;34m\u001b[0m\u001b[0m\n\u001b[1;32m     89\u001b[0m         \u001b[0mvar\u001b[0m \u001b[0;34m=\u001b[0m \u001b[0mroot_scp\u001b[0m\u001b[0;34m.\u001b[0m\u001b[0mget\u001b[0m\u001b[0;34m(\u001b[0m\u001b[0mname\u001b[0m\u001b[0;34m)\u001b[0m\u001b[0;34m\u001b[0m\u001b[0;34m\u001b[0m\u001b[0m\n",
      "\u001b[0;31mValueError\u001b[0m: Tried to dump variable `inner` which does not exist in the global scope."
     ]
    }
   ],
   "source": [
    "print(dump(ordinary))"
   ]
  },
  {
   "cell_type": "markdown",
   "metadata": {},
   "source": [
    "# Input11"
   ]
  },
  {
   "cell_type": "code",
   "execution_count": 28,
   "metadata": {},
   "outputs": [
    {
     "name": "stdout",
     "output_type": "stream",
     "text": [
      "I am going to divide 2 and 3\n",
      "0.6666666666666666\n"
     ]
    }
   ],
   "source": [
    "def smart_divide(func):\n",
    "   def inner(a,b):\n",
    "      print(\"I am going to divide\",a,\"and\",b)\n",
    "      if b == 0:\n",
    "         print(\"Whoops! cannot divide\")\n",
    "         return\n",
    "\n",
    "      return func(a,b)\n",
    "   return inner\n",
    "\n",
    "@smart_divide\n",
    "def divide(a,b):\n",
    "    return a/b\n",
    "\n",
    "x=divide(2,3)\n",
    "print(x)"
   ]
  },
  {
   "cell_type": "markdown",
   "metadata": {},
   "source": [
    "# Output11"
   ]
  },
  {
   "cell_type": "code",
   "execution_count": 29,
   "metadata": {},
   "outputs": [
    {
     "ename": "ValueError",
     "evalue": "Tried to dump variable `inner` which does not exist in the global scope.",
     "output_type": "error",
     "traceback": [
      "\u001b[0;31m---------------------------------------------------------------------------\u001b[0m",
      "\u001b[0;31mValueError\u001b[0m                                Traceback (most recent call last)",
      "\u001b[0;32m<ipython-input-29-807eb6b33c76>\u001b[0m in \u001b[0;36m<module>\u001b[0;34m\u001b[0m\n\u001b[0;32m----> 1\u001b[0;31m \u001b[0mprint\u001b[0m\u001b[0;34m(\u001b[0m\u001b[0mdump\u001b[0m\u001b[0;34m(\u001b[0m\u001b[0mdivide\u001b[0m\u001b[0;34m)\u001b[0m\u001b[0;34m)\u001b[0m\u001b[0;34m\u001b[0m\u001b[0;34m\u001b[0m\u001b[0m\n\u001b[0m",
      "\u001b[0;32m~/Desktop/razorsdk-code-dumper/code_dumper/__init__.py\u001b[0m in \u001b[0;36mdump\u001b[0;34m(obj)\u001b[0m\n\u001b[1;32m     50\u001b[0m     \u001b[0msource\u001b[0m \u001b[0;34m=\u001b[0m \u001b[0mget_source_from_obj\u001b[0m\u001b[0;34m(\u001b[0m\u001b[0mobj\u001b[0m\u001b[0;34m)\u001b[0m\u001b[0;34m\u001b[0m\u001b[0;34m\u001b[0m\u001b[0m\n\u001b[1;32m     51\u001b[0m     \u001b[0mname\u001b[0m \u001b[0;34m=\u001b[0m \u001b[0mget_name_from_obj\u001b[0m\u001b[0;34m(\u001b[0m\u001b[0mobj\u001b[0m\u001b[0;34m)\u001b[0m\u001b[0;34m\u001b[0m\u001b[0;34m\u001b[0m\u001b[0m\n\u001b[0;32m---> 52\u001b[0;31m     \u001b[0;32mreturn\u001b[0m \u001b[0mCodeDumper\u001b[0m\u001b[0;34m(\u001b[0m\u001b[0msource\u001b[0m\u001b[0;34m)\u001b[0m\u001b[0;34m.\u001b[0m\u001b[0mdump\u001b[0m\u001b[0;34m(\u001b[0m\u001b[0mname\u001b[0m\u001b[0;34m)\u001b[0m\u001b[0;34m\u001b[0m\u001b[0;34m\u001b[0m\u001b[0m\n\u001b[0m",
      "\u001b[0;32m~/Desktop/razorsdk-code-dumper/code_dumper/dumper.py\u001b[0m in \u001b[0;36mdump\u001b[0;34m(self, name)\u001b[0m\n\u001b[1;32m     85\u001b[0m         \u001b[0;32mif\u001b[0m \u001b[0mname\u001b[0m \u001b[0;32mnot\u001b[0m \u001b[0;32min\u001b[0m \u001b[0mroot_scp\u001b[0m\u001b[0;34m:\u001b[0m\u001b[0;34m\u001b[0m\u001b[0;34m\u001b[0m\u001b[0m\n\u001b[1;32m     86\u001b[0m             raise ValueError(\"Tried to dump variable `{}` which does not exist \"\n\u001b[0;32m---> 87\u001b[0;31m                              \"in the global scope.\".format(name))\n\u001b[0m\u001b[1;32m     88\u001b[0m \u001b[0;34m\u001b[0m\u001b[0m\n\u001b[1;32m     89\u001b[0m         \u001b[0mvar\u001b[0m \u001b[0;34m=\u001b[0m \u001b[0mroot_scp\u001b[0m\u001b[0;34m.\u001b[0m\u001b[0mget\u001b[0m\u001b[0;34m(\u001b[0m\u001b[0mname\u001b[0m\u001b[0;34m)\u001b[0m\u001b[0;34m\u001b[0m\u001b[0;34m\u001b[0m\u001b[0m\n",
      "\u001b[0;31mValueError\u001b[0m: Tried to dump variable `inner` which does not exist in the global scope."
     ]
    }
   ],
   "source": [
    "print(dump(divide))"
   ]
  },
  {
   "cell_type": "markdown",
   "metadata": {},
   "source": [
    "# Input12"
   ]
  },
  {
   "cell_type": "code",
   "execution_count": 30,
   "metadata": {},
   "outputs": [
    {
     "name": "stdout",
     "output_type": "stream",
     "text": [
      "I am going to divide 2 and 3\n",
      "0.6666666666666666\n"
     ]
    }
   ],
   "source": [
    "def smart_divide(func):\n",
    "   def inner(a,b):\n",
    "      print(\"I am going to divide\",a,\"and\",b)\n",
    "      if b == 0:\n",
    "         print(\"Whoops! cannot divide\")\n",
    "         return\n",
    "\n",
    "      return func(a,b)\n",
    "   return inner\n",
    "\n",
    "@smart_divide\n",
    "def divide(a,b):\n",
    "    return a/b\n",
    "\n",
    "x=divide(2,3)\n",
    "print(x)"
   ]
  },
  {
   "cell_type": "markdown",
   "metadata": {},
   "source": [
    "# Output12"
   ]
  },
  {
   "cell_type": "code",
   "execution_count": 31,
   "metadata": {},
   "outputs": [
    {
     "name": "stdout",
     "output_type": "stream",
     "text": [
      "def smart_divide(func):\n",
      "   def inner(a,b):\n",
      "      print(\"I am going to divide\",a,\"and\",b)\n",
      "      if b == 0:\n",
      "         print(\"Whoops! cannot divide\")\n",
      "         return\n",
      "\n",
      "      return func(a,b)\n",
      "   return inner\n",
      "\n"
     ]
    }
   ],
   "source": [
    "print(dump(smart_divide))"
   ]
  },
  {
   "cell_type": "markdown",
   "metadata": {},
   "source": [
    "# Input13"
   ]
  },
  {
   "cell_type": "code",
   "execution_count": 32,
   "metadata": {},
   "outputs": [
    {
     "name": "stdout",
     "output_type": "stream",
     "text": [
      "This is printed first\n",
      "This is printed second\n"
     ]
    },
    {
     "data": {
      "text/plain": [
       "2"
      ]
     },
     "execution_count": 32,
     "metadata": {},
     "output_type": "execute_result"
    }
   ],
   "source": [
    "def my_gen():\n",
    "    n = 1\n",
    "    print('This is printed first')\n",
    "    yield n\n",
    "\n",
    "    n += 1\n",
    "    print('This is printed second')\n",
    "    yield n\n",
    "\n",
    "    n += 1\n",
    "    print('This is printed at last')\n",
    "    yield n\n",
    "\n",
    "x=my_gen()\n",
    "next(x)\n",
    "next(x)\n"
   ]
  },
  {
   "cell_type": "markdown",
   "metadata": {},
   "source": [
    "# Output13"
   ]
  },
  {
   "cell_type": "code",
   "execution_count": 33,
   "metadata": {},
   "outputs": [
    {
     "name": "stdout",
     "output_type": "stream",
     "text": [
      "def my_gen():\n",
      "    n = 1\n",
      "    print('This is printed first')\n",
      "    yield n\n",
      "\n",
      "    n += 1\n",
      "    print('This is printed second')\n",
      "    yield n\n",
      "\n",
      "    n += 1\n",
      "    print('This is printed at last')\n",
      "    yield n\n",
      "\n",
      "x=my_gen()\n"
     ]
    }
   ],
   "source": [
    "print(dump(my_gen))"
   ]
  },
  {
   "cell_type": "markdown",
   "metadata": {},
   "source": [
    "# Input14"
   ]
  },
  {
   "cell_type": "code",
   "execution_count": 34,
   "metadata": {},
   "outputs": [
    {
     "name": "stdout",
     "output_type": "stream",
     "text": [
      "His last name is Keshari\n"
     ]
    }
   ],
   "source": [
    "def my_function(**kid):\n",
    "  print(\"His last name is \" + kid[\"lname\"])\n",
    "\n",
    "my_function(fname = \"Ritanshu\", lname = \"Keshari\")"
   ]
  },
  {
   "cell_type": "markdown",
   "metadata": {},
   "source": [
    "# Output14"
   ]
  },
  {
   "cell_type": "code",
   "execution_count": 47,
   "metadata": {},
   "outputs": [
    {
     "name": "stdout",
     "output_type": "stream",
     "text": [
      "def my_function(**kid):\n",
      "  print(\"His last name is \" + kid[\"lname\"])\n",
      "\n"
     ]
    }
   ],
   "source": [
    "print(dump(my_function))"
   ]
  },
  {
   "cell_type": "markdown",
   "metadata": {},
   "source": [
    "# Input15"
   ]
  },
  {
   "cell_type": "code",
   "execution_count": 35,
   "metadata": {},
   "outputs": [
    {
     "name": "stdout",
     "output_type": "stream",
     "text": [
      "The factorial of 4 is 24\n"
     ]
    }
   ],
   "source": [
    "def calc_factorial(x):\n",
    "    if x == 1:\n",
    "        return 1\n",
    "    else:\n",
    "        return (x * calc_factorial(x-1))\n",
    "\n",
    "\n",
    "num = 4\n",
    "print(\"The factorial of\", num, \"is\", calc_factorial(num))"
   ]
  },
  {
   "cell_type": "markdown",
   "metadata": {},
   "source": [
    "# Output15"
   ]
  },
  {
   "cell_type": "code",
   "execution_count": 48,
   "metadata": {},
   "outputs": [
    {
     "name": "stdout",
     "output_type": "stream",
     "text": [
      "def calc_factorial(x):\n",
      "    if x == 1:\n",
      "        return 1\n",
      "    else:\n",
      "        return (x * calc_factorial(x-1))\n",
      "\n",
      "\n"
     ]
    }
   ],
   "source": [
    "print(dump(calc_factorial))"
   ]
  },
  {
   "cell_type": "markdown",
   "metadata": {},
   "source": [
    "# Input16"
   ]
  },
  {
   "cell_type": "code",
   "execution_count": 36,
   "metadata": {},
   "outputs": [
    {
     "name": "stdout",
     "output_type": "stream",
     "text": [
      "None\n",
      "None\n"
     ]
    }
   ],
   "source": [
    "def shout(text):\n",
    "    return text.upper()\n",
    "\n",
    "\n",
    "def whisper(text):\n",
    "    return text.lower()\n",
    "\n",
    "\n",
    "def greet(func):\n",
    "    # storing the function in a variable\n",
    "    greeting = func(\"Hi, I am created by a function passed as an argument.\")\n",
    "\n",
    "print(greet(shout))\n",
    "print(greet(whisper))"
   ]
  },
  {
   "cell_type": "markdown",
   "metadata": {},
   "source": [
    "# Output16"
   ]
  },
  {
   "cell_type": "code",
   "execution_count": 49,
   "metadata": {},
   "outputs": [
    {
     "name": "stdout",
     "output_type": "stream",
     "text": [
      "def greet(func):\n",
      "    # storing the function in a variable\n",
      "    greeting = func(\"Hi, I am created by a function passed as an argument.\")\n",
      "\n"
     ]
    }
   ],
   "source": [
    "print(dump(greet))"
   ]
  },
  {
   "cell_type": "markdown",
   "metadata": {},
   "source": [
    "# Input17"
   ]
  },
  {
   "cell_type": "code",
   "execution_count": 37,
   "metadata": {},
   "outputs": [
    {
     "name": "stdout",
     "output_type": "stream",
     "text": [
      "4\n"
     ]
    }
   ],
   "source": [
    "\n",
    "def adder(y):\n",
    "    return y+y\n",
    "\n",
    "def create_adder(x):\n",
    "    return adder(x)\n",
    "\n",
    "\n",
    "print(create_adder(2))"
   ]
  },
  {
   "cell_type": "markdown",
   "metadata": {},
   "source": [
    "# Output17"
   ]
  },
  {
   "cell_type": "code",
   "execution_count": 50,
   "metadata": {},
   "outputs": [
    {
     "name": "stdout",
     "output_type": "stream",
     "text": [
      "def adder(y):\n",
      "    return y+y\n",
      "\n",
      "def create_adder(x):\n",
      "    return adder(x)\n",
      "\n",
      "\n",
      "print(create_adder(2))\n",
      "# ---\n"
     ]
    }
   ],
   "source": [
    "print(dump(create_adder))"
   ]
  },
  {
   "cell_type": "markdown",
   "metadata": {},
   "source": [
    "# Input18"
   ]
  },
  {
   "cell_type": "code",
   "execution_count": 51,
   "metadata": {},
   "outputs": [],
   "source": [
    "from contextlib import contextmanager\n",
    "def make_pretty(func):\n",
    "    def inner():\n",
    "        print(\"I got decorated\")\n",
    "        func()\n",
    "    return inner\n",
    "\n",
    "@contextmanager\n",
    "def ordinary():\n",
    "    print(\"I am ordinary\")\n"
   ]
  },
  {
   "cell_type": "markdown",
   "metadata": {},
   "source": [
    "# Output18"
   ]
  },
  {
   "cell_type": "code",
   "execution_count": 52,
   "metadata": {},
   "outputs": [
    {
     "name": "stdout",
     "output_type": "stream",
     "text": [
      "from contextlib import contextmanager\n",
      "@contextmanager\n",
      "def ordinary():\n",
      "    print(\"I am ordinary\")\n",
      "# ---\n"
     ]
    }
   ],
   "source": [
    "print(dump(ordinary))"
   ]
  },
  {
   "cell_type": "markdown",
   "metadata": {},
   "source": [
    "# Input19"
   ]
  },
  {
   "cell_type": "code",
   "execution_count": 53,
   "metadata": {},
   "outputs": [
    {
     "name": "stdout",
     "output_type": "stream",
     "text": [
      "My name is ritanshu and i am 23 years old\n"
     ]
    }
   ],
   "source": [
    "def test_format_string(name,age):\n",
    "    my_str=\"My name is {} and i am {} years old\".format(name,age)\n",
    "    print(my_str)\n",
    "\n",
    "test_format_string(\"ritanshu\",23)\n"
   ]
  },
  {
   "cell_type": "markdown",
   "metadata": {},
   "source": [
    "# Output19"
   ]
  },
  {
   "cell_type": "code",
   "execution_count": 54,
   "metadata": {},
   "outputs": [
    {
     "name": "stdout",
     "output_type": "stream",
     "text": [
      "def test_format_string(name,age):\n",
      "    my_str=\"My name is {} and i am {} years old\".format(name,age)\n",
      "    print(my_str)\n",
      "\n",
      "test_format_string(\"ritanshu\",23)\n",
      "# ---\n"
     ]
    }
   ],
   "source": [
    "print(dump(test_format_string))"
   ]
  },
  {
   "cell_type": "markdown",
   "metadata": {},
   "source": [
    "# ClassInput1"
   ]
  },
  {
   "cell_type": "code",
   "execution_count": 46,
   "metadata": {},
   "outputs": [],
   "source": [
    "class Base1:\n",
    "    def __init__(self):\n",
    "        pass\n"
   ]
  },
  {
   "cell_type": "markdown",
   "metadata": {},
   "source": [
    "# ClassOutput1"
   ]
  },
  {
   "cell_type": "code",
   "execution_count": 55,
   "metadata": {},
   "outputs": [
    {
     "name": "stdout",
     "output_type": "stream",
     "text": [
      "class Base1:\n",
      "    def __init__(self):\n",
      "        pass\n",
      "# ---\n"
     ]
    }
   ],
   "source": [
    "print(dump(Base1))"
   ]
  },
  {
   "cell_type": "markdown",
   "metadata": {},
   "source": [
    "# ClassInput2"
   ]
  },
  {
   "cell_type": "code",
   "execution_count": 41,
   "metadata": {},
   "outputs": [],
   "source": [
    "class Base1:\n",
    "    def __init__(self):\n",
    "        pass\n",
    "\n",
    "class Base2:\n",
    "    def __init__(self):\n",
    "        pass\n",
    "\n",
    "class Derived1(Base1):\n",
    "    def __init__(self):\n",
    "        pass\n",
    "\n"
   ]
  },
  {
   "cell_type": "markdown",
   "metadata": {},
   "source": [
    "# ClassOutput2"
   ]
  },
  {
   "cell_type": "code",
   "execution_count": 56,
   "metadata": {},
   "outputs": [
    {
     "name": "stdout",
     "output_type": "stream",
     "text": [
      "class Derived1(Base1):\n",
      "    def __init__(self):\n",
      "        pass\n",
      "\n",
      "class Base1:\n",
      "    def __init__(self):\n",
      "        pass\n",
      "# ---\n"
     ]
    }
   ],
   "source": [
    "print(dump(Derived1))"
   ]
  },
  {
   "cell_type": "markdown",
   "metadata": {},
   "source": [
    "# ClassInput3"
   ]
  },
  {
   "cell_type": "code",
   "execution_count": 57,
   "metadata": {},
   "outputs": [],
   "source": [
    "class Base1:\n",
    "    def __init__(self):\n",
    "        pass\n",
    "\n",
    "class Base2:\n",
    "    def __init__(self):\n",
    "        pass\n",
    "\n",
    "class Derived3(Base1,Base2):\n",
    "    def __init__(self):\n",
    "        pass\n"
   ]
  },
  {
   "cell_type": "markdown",
   "metadata": {},
   "source": [
    "# ClassOutput3"
   ]
  },
  {
   "cell_type": "code",
   "execution_count": 58,
   "metadata": {},
   "outputs": [
    {
     "name": "stdout",
     "output_type": "stream",
     "text": [
      "class Base1:\n",
      "    def __init__(self):\n",
      "        pass\n",
      "\n",
      "class Base2:\n",
      "    def __init__(self):\n",
      "        pass\n",
      "\n",
      "class Derived3(Base1,Base2):\n",
      "    def __init__(self):\n",
      "        pass\n",
      "# ---\n"
     ]
    }
   ],
   "source": [
    "print(dump(Derived3))"
   ]
  },
  {
   "cell_type": "markdown",
   "metadata": {},
   "source": [
    "# ClassInput4"
   ]
  },
  {
   "cell_type": "code",
   "execution_count": 43,
   "metadata": {},
   "outputs": [],
   "source": [
    "class Base1:\n",
    "    def __init__(self):\n",
    "        pass\n",
    "\n",
    "class Derived1(Base1):\n",
    "    def __init__(self):\n",
    "        pass\n",
    "\n",
    "class Derived1_Lvl2(Derived1):\n",
    "    def __init__(self):\n",
    "        pass\n"
   ]
  },
  {
   "cell_type": "markdown",
   "metadata": {},
   "source": [
    "# ClassOutput4"
   ]
  },
  {
   "cell_type": "code",
   "execution_count": 59,
   "metadata": {},
   "outputs": [
    {
     "name": "stdout",
     "output_type": "stream",
     "text": [
      "class Derived1(Base1):\n",
      "    def __init__(self):\n",
      "        pass\n",
      "\n",
      "class Derived1_Lvl2(Derived1):\n",
      "    def __init__(self):\n",
      "        pass\n",
      "# ---\n",
      "class Base1:\n",
      "    def __init__(self):\n",
      "        pass\n",
      "\n"
     ]
    }
   ],
   "source": [
    "print(dump(Derived1_Lvl2))"
   ]
  },
  {
   "cell_type": "markdown",
   "metadata": {},
   "source": [
    "# ClassInput5"
   ]
  },
  {
   "cell_type": "code",
   "execution_count": 44,
   "metadata": {},
   "outputs": [
    {
     "name": "stdout",
     "output_type": "stream",
     "text": [
      "True\n",
      "False\n"
     ]
    }
   ],
   "source": [
    "from datetime import date as dt\n",
    "class Employee:\n",
    "   def __init__(self, name, age):\n",
    "      self.name = name\n",
    "      self.age = age\n",
    "   @staticmethod\n",
    "   def isAdult(age):\n",
    "      if age > 18:\n",
    "         return True\n",
    "      else:\n",
    "         return False\n",
    "   @classmethod\n",
    "   def emp_from_year(emp_class, name, year):\n",
    "       return emp_class(name, dt.today().year - year)\n",
    "\n",
    "e1 = Employee('Dhiman', 25)\n",
    "e2 = Employee.emp_from_year('Subhas', 1987)\n",
    "print(Employee.isAdult(25))\n",
    "print(Employee.isAdult(16))"
   ]
  },
  {
   "cell_type": "markdown",
   "metadata": {},
   "source": [
    "# ClassOutput5"
   ]
  },
  {
   "cell_type": "code",
   "execution_count": 60,
   "metadata": {},
   "outputs": [
    {
     "name": "stdout",
     "output_type": "stream",
     "text": [
      "from datetime import date as dt\n",
      "class Employee:\n",
      "   def __init__(self, name, age):\n",
      "      self.name = name\n",
      "      self.age = age\n",
      "   @staticmethod\n",
      "   def isAdult(age):\n",
      "      if age > 18:\n",
      "         return True\n",
      "      else:\n",
      "         return False\n",
      "   @classmethod\n",
      "   def emp_from_year(emp_class, name, year):\n",
      "       return emp_class(name, dt.today().year - year)\n",
      "   def __str__(self):\n",
      "       return 'Employee Name: {} and Age: {}'.format(self.name, self.age)\n",
      "\n"
     ]
    }
   ],
   "source": [
    "print(dump(Employee))"
   ]
  },
  {
   "cell_type": "markdown",
   "metadata": {},
   "source": [
    "# ClassInput6"
   ]
  },
  {
   "cell_type": "code",
   "execution_count": 45,
   "metadata": {},
   "outputs": [
    {
     "name": "stdout",
     "output_type": "stream",
     "text": [
      "True\n",
      "False\n"
     ]
    }
   ],
   "source": [
    "from datetime import date as dt\n",
    "class Employee:\n",
    "   def __init__(self, name, age):\n",
    "      self.name = name\n",
    "      self.age = age\n",
    "   @staticmethod\n",
    "   def isAdult(age):\n",
    "      if age > 18:\n",
    "         return True\n",
    "      else:\n",
    "         return False\n",
    "   @classmethod\n",
    "   def emp_from_year(emp_class, name, year):\n",
    "       return emp_class(name, dt.today().year - year)\n",
    "   def __str__(self):\n",
    "       return 'Employee Name: {} and Age: {}'.format(self.name, self.age)\n",
    "\n",
    "e1 = Employee('Dhiman', 25)\n",
    "e2 = Employee.emp_from_year('Subhas', 1987)\n",
    "print(Employee.isAdult(25))\n",
    "print(Employee.isAdult(16))"
   ]
  },
  {
   "cell_type": "markdown",
   "metadata": {},
   "source": [
    "# ClassOutput6"
   ]
  },
  {
   "cell_type": "code",
   "execution_count": 61,
   "metadata": {},
   "outputs": [
    {
     "name": "stdout",
     "output_type": "stream",
     "text": [
      "from datetime import date as dt\n",
      "class Employee:\n",
      "   def __init__(self, name, age):\n",
      "      self.name = name\n",
      "      self.age = age\n",
      "   @staticmethod\n",
      "   def isAdult(age):\n",
      "      if age > 18:\n",
      "         return True\n",
      "      else:\n",
      "         return False\n",
      "   @classmethod\n",
      "   def emp_from_year(emp_class, name, year):\n",
      "       return emp_class(name, dt.today().year - year)\n",
      "   def __str__(self):\n",
      "       return 'Employee Name: {} and Age: {}'.format(self.name, self.age)\n",
      "\n"
     ]
    }
   ],
   "source": [
    "print(dump(Employee))"
   ]
  },
  {
   "cell_type": "code",
   "execution_count": null,
   "metadata": {},
   "outputs": [],
   "source": []
  }
 ],
 "metadata": {
  "kernelspec": {
   "display_name": "Python 3",
   "language": "python",
   "name": "python3"
  },
  "language_info": {
   "codemirror_mode": {
    "name": "ipython",
    "version": 3
   },
   "file_extension": ".py",
   "mimetype": "text/x-python",
   "name": "python",
   "nbconvert_exporter": "python",
   "pygments_lexer": "ipython3",
   "version": "3.7.6"
  }
 },
 "nbformat": 4,
 "nbformat_minor": 4
}
